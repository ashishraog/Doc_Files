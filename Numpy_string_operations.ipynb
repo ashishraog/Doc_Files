{
 "cells": [
  {
   "cell_type": "code",
   "execution_count": 2,
   "metadata": {},
   "outputs": [
    {
     "name": "stdout",
     "output_type": "stream",
     "text": [
      "['ashish' 'yadav']\n",
      "ashish\n",
      "ASHISH\n"
     ]
    }
   ],
   "source": [
    "#String operations\n",
    "#1 char.lower() char.upper()\n",
    "import numpy as np\n",
    "print(np.char.lower(['ASHISH','Yadav']))\n",
    "print(np.char.lower('Ashish'))\n",
    "print(np.char.upper('ashish'))"
   ]
  },
  {
   "cell_type": "code",
   "execution_count": 3,
   "metadata": {},
   "outputs": [
    {
     "name": "stdout",
     "output_type": "stream",
     "text": [
      "['Ashish', 'Yadav', 'Senior', 'Analyst']\n",
      "['Ashish', 'Yadav', 'Senior Analyst']\n"
     ]
    }
   ],
   "source": [
    "#2 char.split() -returns string after breaking sting by specified character\n",
    "print(np.char.split('Ashish Yadav Senior Analyst'))\n",
    "print(np.char.split('Ashish,Yadav,Senior Analyst',sep=','))"
   ]
  },
  {
   "cell_type": "code",
   "execution_count": 4,
   "metadata": {},
   "outputs": [
    {
     "name": "stdout",
     "output_type": "stream",
     "text": [
      "A-s-h-i-s-h\n",
      "['A-s-h-i-s-h' 'S:e:n:i:o:r: :A:n:a:l:y:s:t']\n"
     ]
    }
   ],
   "source": [
    "#3 char.join() -return a string in which elements of sequence have been\n",
    "# join by str operator\n",
    "print(np.char.join('-','Ashish'))\n",
    "print(np.char.join(['-',':'],['Ashish','Senior Analyst']))"
   ]
  },
  {
   "cell_type": "code",
   "execution_count": 5,
   "metadata": {},
   "outputs": [
    {
     "name": "stdout",
     "output_type": "stream",
     "text": [
      "After strip:  Ashish Senior Analyst\n",
      "Ashish yadav\n",
      "Ashish    yadav  \n",
      "After padding tring is:  ****Ashish Senior Analyst*****\n",
      "*******Ashish*******\n"
     ]
    }
   ],
   "source": [
    "#4 strip()\n",
    "temp=\"Ashish Senior Analyst \"\n",
    "new_temp1=temp.strip()\n",
    "print(\"After strip: \",new_temp1)\n",
    "print(np.char.strip(' Ashish yadav  '))\n",
    "\n",
    "#5 capitalize()\n",
    "print(np.char.capitalize('ashish    Yadav  ')) #only first letter capitalize\n",
    "temp=\"Ashish Senior Analyst\"\n",
    "new_temp2=temp.center(30,'*')\n",
    "print(\"After padding tring is: \",new_temp2)\n",
    "print(np.char.center('Ashish',20,'*'))\n"
   ]
  },
  {
   "cell_type": "code",
   "execution_count": 6,
   "metadata": {},
   "outputs": [
    {
     "name": "stdout",
     "output_type": "stream",
     "text": [
      "1016\n",
      "1016\n"
     ]
    },
    {
     "ename": "TypeError",
     "evalue": "a bytes-like object is required, not 'str'",
     "output_type": "error",
     "traceback": [
      "\u001b[1;31m---------------------------------------------------------------------------\u001b[0m",
      "\u001b[1;31mTypeError\u001b[0m                                 Traceback (most recent call last)",
      "\u001b[1;32m<ipython-input-6-6e838648a40b>\u001b[0m in \u001b[0;36m<module>\u001b[1;34m\u001b[0m\n\u001b[0;32m     13\u001b[0m     \u001b[0mprint\u001b[0m\u001b[1;33m(\u001b[0m\u001b[1;34m\"Wrong user ID\\n\"\u001b[0m\u001b[1;33m)\u001b[0m\u001b[1;33m\u001b[0m\u001b[1;33m\u001b[0m\u001b[0m\n\u001b[0;32m     14\u001b[0m \u001b[1;32melse\u001b[0m\u001b[1;33m:\u001b[0m\u001b[1;33m\u001b[0m\u001b[1;33m\u001b[0m\u001b[0m\n\u001b[1;32m---> 15\u001b[1;33m     \u001b[1;32mif\u001b[0m\u001b[1;33m(\u001b[0m\u001b[0mpassw\u001b[0m\u001b[1;33m==\u001b[0m\u001b[0mcodecs\u001b[0m\u001b[1;33m.\u001b[0m\u001b[0mutf_8_decode\u001b[0m\u001b[1;33m(\u001b[0m\u001b[0muser_passw\u001b[0m\u001b[1;33m)\u001b[0m\u001b[1;33m)\u001b[0m\u001b[1;33m:\u001b[0m\u001b[1;33m\u001b[0m\u001b[1;33m\u001b[0m\u001b[0m\n\u001b[0m\u001b[0;32m     16\u001b[0m         \u001b[0mprint\u001b[0m\u001b[1;33m(\u001b[0m\u001b[1;34m\"Succesfully logged in\\n\"\u001b[0m\u001b[1;33m)\u001b[0m\u001b[1;33m\u001b[0m\u001b[1;33m\u001b[0m\u001b[0m\n\u001b[0;32m     17\u001b[0m     \u001b[1;32melse\u001b[0m\u001b[1;33m:\u001b[0m\u001b[1;33m\u001b[0m\u001b[1;33m\u001b[0m\u001b[0m\n",
      "\u001b[1;31mTypeError\u001b[0m: a bytes-like object is required, not 'str'"
     ]
    }
   ],
   "source": [
    "#6 decode and encode\n",
    "#application of this\n",
    "import base64\n",
    "import codecs\n",
    "\n",
    "user=input()\n",
    "passw=input()\n",
    "passw=codecs.encode(passw,'utf-8')\n",
    "user_login=\"1016\"\n",
    "user_passw=\"1016\"\n",
    "\n",
    "if(user!=user_login):\n",
    "    print(\"Wrong user ID\\n\")\n",
    "else:\n",
    "    if(passw==codecs.utf_8_decode(user_passw)):\n",
    "        print(\"Succesfully logged in\\n\")\n",
    "    else:\n",
    "        print(\"Wrong password\\n\")\n",
    "\n"
   ]
  },
  {
   "cell_type": "code",
   "execution_count": 7,
   "metadata": {},
   "outputs": [
    {
     "name": "stdout",
     "output_type": "stream",
     "text": [
      "[1 0 1]\n",
      "[ 0 -1  0]\n",
      "[False False False]\n",
      "False\n",
      "True\n"
     ]
    }
   ],
   "source": [
    "#7 count() -no of occurence of a substring in given string\n",
    "import numpy as np\n",
    "temp=np.array(['Ashish','Yadav','Ashi'])\n",
    "print(np.char.count(temp,'Ashi'))\n",
    "\n",
    "#8 rfind() -highest no of substring if found else returns -1\n",
    "print(np.char.rfind(temp,'Ashi'))\n",
    "\n",
    "#9 isnumeric() - true if all acharcters in string are numeric else false\n",
    "print(np.char.isnumeric(temp))\n",
    "\n",
    "#10 equal() -checks for string1==string2 // not_equal()\n",
    "print(np.char.equal('Ashish','Ashi'))\n",
    "\n",
    "#11 greater() -check string1 greater than string2 // less(), greater_equal\n",
    "print(np.char.greater('Ashish','Ashi'))\n"
   ]
  },
  {
   "cell_type": "code",
   "execution_count": null,
   "metadata": {},
   "outputs": [],
   "source": []
  }
 ],
 "metadata": {
  "kernelspec": {
   "display_name": "Python 3",
   "language": "python",
   "name": "python3"
  },
  "language_info": {
   "codemirror_mode": {
    "name": "ipython",
    "version": 3
   },
   "file_extension": ".py",
   "mimetype": "text/x-python",
   "name": "python",
   "nbconvert_exporter": "python",
   "pygments_lexer": "ipython3",
   "version": "3.7.4"
  }
 },
 "nbformat": 4,
 "nbformat_minor": 2
}
