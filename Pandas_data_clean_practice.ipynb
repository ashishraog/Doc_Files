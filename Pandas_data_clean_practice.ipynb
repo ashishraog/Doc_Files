{
 "cells": [
  {
   "cell_type": "code",
   "execution_count": 1,
   "metadata": {},
   "outputs": [],
   "source": [
    "import pandas as pd"
   ]
  },
  {
   "cell_type": "code",
   "execution_count": 76,
   "metadata": {},
   "outputs": [],
   "source": [
    "db=pd.read_csv(\"ChangesetFile.csv\")\n",
    "db.columns=['A','B','C','D','E','F','G','H']"
   ]
  },
  {
   "cell_type": "code",
   "execution_count": 6,
   "metadata": {},
   "outputs": [
    {
     "data": {
      "text/html": [
       "<div>\n",
       "<style scoped>\n",
       "    .dataframe tbody tr th:only-of-type {\n",
       "        vertical-align: middle;\n",
       "    }\n",
       "\n",
       "    .dataframe tbody tr th {\n",
       "        vertical-align: top;\n",
       "    }\n",
       "\n",
       "    .dataframe thead th {\n",
       "        text-align: right;\n",
       "    }\n",
       "</style>\n",
       "<table border=\"1\" class=\"dataframe\">\n",
       "  <thead>\n",
       "    <tr style=\"text-align: right;\">\n",
       "      <th></th>\n",
       "      <th>FeatureID</th>\n",
       "      <th>Changeset.Id</th>\n",
       "      <th>Changeset.Owner</th>\n",
       "      <th>Changeset.OwnerDisplayName</th>\n",
       "      <th></th>\n",
       "      <th>Changeset.CreationDate</th>\n",
       "      <th>Changeset.ItemServerItem</th>\n",
       "      <th>Changeset.Comment\\r\\n</th>\n",
       "    </tr>\n",
       "  </thead>\n",
       "  <tbody>\n",
       "    <tr>\n",
       "      <td>0</td>\n",
       "      <td>3115311</td>\n",
       "      <td>2709131.0</td>\n",
       "      <td>AD001\\z003n26t</td>\n",
       "      <td>Selvaraj, Perumal (IOT DS AA DDI PLT DES)</td>\n",
       "      <td></td>\n",
       "      <td>29-Oct-18 8:12:25 PM</td>\n",
       "      <td>$/TIA/dev/WM5_SPL_Opns_Work3/src/PE/CAX/#_Tes...</td>\n",
       "      <td>CI by Selvaraj, Perumal (CT RDA DS AA DF PLT ...</td>\n",
       "    </tr>\n",
       "    <tr>\n",
       "      <td>1</td>\n",
       "      <td>3115311</td>\n",
       "      <td>2709131.0</td>\n",
       "      <td>AD001\\z003n26t</td>\n",
       "      <td>Selvaraj, Perumal (IOT DS AA DDI PLT DES)</td>\n",
       "      <td></td>\n",
       "      <td>29-Oct-18 8:12:25 PM</td>\n",
       "      <td>$/TIA/dev/WM5_SPL_Opns_Work3/src/PE/CAX/#_Tes...</td>\n",
       "      <td>CI by Selvaraj, Perumal (CT RDA DS AA DF PLT ...</td>\n",
       "    </tr>\n",
       "    <tr>\n",
       "      <td>2</td>\n",
       "      <td>3115311</td>\n",
       "      <td>2709131.0</td>\n",
       "      <td>AD001\\z003n26t</td>\n",
       "      <td>Selvaraj, Perumal (IOT DS AA DDI PLT DES)</td>\n",
       "      <td></td>\n",
       "      <td>29-Oct-18 8:12:25 PM</td>\n",
       "      <td>$/TIA/dev/WM5_SPL_Opns_Work3/src/PE/CAX/#_Tes...</td>\n",
       "      <td>CI by Selvaraj, Perumal (CT RDA DS AA DF PLT ...</td>\n",
       "    </tr>\n",
       "    <tr>\n",
       "      <td>3</td>\n",
       "      <td>3115311</td>\n",
       "      <td>2709131.0</td>\n",
       "      <td>AD001\\z003n26t</td>\n",
       "      <td>Selvaraj, Perumal (IOT DS AA DDI PLT DES)</td>\n",
       "      <td></td>\n",
       "      <td>29-Oct-18 8:12:25 PM</td>\n",
       "      <td>$/TIA/dev/WM5_SPL_Opns_Work3/src/PE/CAX/#_Tes...</td>\n",
       "      <td>CI by Selvaraj, Perumal (CT RDA DS AA DF PLT ...</td>\n",
       "    </tr>\n",
       "    <tr>\n",
       "      <td>4</td>\n",
       "      <td>3115311</td>\n",
       "      <td>2709131.0</td>\n",
       "      <td>AD001\\z003n26t</td>\n",
       "      <td>Selvaraj, Perumal (IOT DS AA DDI PLT DES)</td>\n",
       "      <td></td>\n",
       "      <td>29-Oct-18 8:12:25 PM</td>\n",
       "      <td>$/TIA/dev/WM5_SPL_Opns_Work3/src/PE/CAX/#_Tes...</td>\n",
       "      <td>CI by Selvaraj, Perumal (CT RDA DS AA DF PLT ...</td>\n",
       "    </tr>\n",
       "  </tbody>\n",
       "</table>\n",
       "</div>"
      ],
      "text/plain": [
       "   FeatureID    Changeset.Id   Changeset.Owner   \\\n",
       "0     3115311       2709131.0   AD001\\z003n26t    \n",
       "1     3115311       2709131.0   AD001\\z003n26t    \n",
       "2     3115311       2709131.0   AD001\\z003n26t    \n",
       "3     3115311       2709131.0   AD001\\z003n26t    \n",
       "4     3115311       2709131.0   AD001\\z003n26t    \n",
       "\n",
       "                   Changeset.OwnerDisplayName       Changeset.CreationDate   \\\n",
       "0   Selvaraj, Perumal (IOT DS AA DDI PLT DES)         29-Oct-18 8:12:25 PM    \n",
       "1   Selvaraj, Perumal (IOT DS AA DDI PLT DES)         29-Oct-18 8:12:25 PM    \n",
       "2   Selvaraj, Perumal (IOT DS AA DDI PLT DES)         29-Oct-18 8:12:25 PM    \n",
       "3   Selvaraj, Perumal (IOT DS AA DDI PLT DES)         29-Oct-18 8:12:25 PM    \n",
       "4   Selvaraj, Perumal (IOT DS AA DDI PLT DES)         29-Oct-18 8:12:25 PM    \n",
       "\n",
       "                           Changeset.ItemServerItem   \\\n",
       "0   $/TIA/dev/WM5_SPL_Opns_Work3/src/PE/CAX/#_Tes...   \n",
       "1   $/TIA/dev/WM5_SPL_Opns_Work3/src/PE/CAX/#_Tes...   \n",
       "2   $/TIA/dev/WM5_SPL_Opns_Work3/src/PE/CAX/#_Tes...   \n",
       "3   $/TIA/dev/WM5_SPL_Opns_Work3/src/PE/CAX/#_Tes...   \n",
       "4   $/TIA/dev/WM5_SPL_Opns_Work3/src/PE/CAX/#_Tes...   \n",
       "\n",
       "                               Changeset.Comment\\r\\n  \n",
       "0   CI by Selvaraj, Perumal (CT RDA DS AA DF PLT ...  \n",
       "1   CI by Selvaraj, Perumal (CT RDA DS AA DF PLT ...  \n",
       "2   CI by Selvaraj, Perumal (CT RDA DS AA DF PLT ...  \n",
       "3   CI by Selvaraj, Perumal (CT RDA DS AA DF PLT ...  \n",
       "4   CI by Selvaraj, Perumal (CT RDA DS AA DF PLT ...  "
      ]
     },
     "execution_count": 6,
     "metadata": {},
     "output_type": "execute_result"
    }
   ],
   "source": [
    "db.head(5)"
   ]
  },
  {
   "cell_type": "code",
   "execution_count": 80,
   "metadata": {},
   "outputs": [],
   "source": [
    "db.columns=['A','B','C','D','E','F','G','H']"
   ]
  },
  {
   "cell_type": "code",
   "execution_count": 38,
   "metadata": {},
   "outputs": [
    {
     "name": "stdout",
     "output_type": "stream",
     "text": [
      "<class 'pandas.core.frame.DataFrame'>\n",
      "RangeIndex: 5998 entries, 0 to 5997\n",
      "Data columns (total 8 columns):\n",
      "A    5998 non-null int64\n",
      "B    5998 non-null float64\n",
      "C    5998 non-null object\n",
      "D    5998 non-null object\n",
      "E    5998 non-null object\n",
      "F    5998 non-null object\n",
      "G    5998 non-null object\n",
      "H    5998 non-null object\n",
      "dtypes: float64(1), int64(1), object(6)\n",
      "memory usage: 375.0+ KB\n"
     ]
    }
   ],
   "source": [
    "db.info()"
   ]
  },
  {
   "cell_type": "code",
   "execution_count": 81,
   "metadata": {},
   "outputs": [],
   "source": [
    "gk = db.groupby('A')['B'].apply(list)"
   ]
  },
  {
   "cell_type": "code",
   "execution_count": 82,
   "metadata": {},
   "outputs": [
    {
     "name": "stdout",
     "output_type": "stream",
     "text": [
      "A\n",
      "3115311    [2709131.0, 2709131.0, 2709131.0, 2709131.0, 2...\n",
      "3115315    [2709131.0, 2709131.0, 2709131.0, 2709131.0, 2...\n",
      "3115372    [2728515.0, 2728515.0, 2728515.0, 2728515.0, 2...\n",
      "3115388    [2713798.0, 2713798.0, 2713798.0, 2713798.0, 2...\n",
      "3115392    [2704931.0, 2704931.0, 2704931.0, 2704931.0, 2...\n",
      "                                 ...                        \n",
      "4423975    [3037238.0, 3037238.0, 3037238.0, 3037238.0, 3...\n",
      "4423976    [3037238.0, 3037238.0, 3037238.0, 3037238.0, 3...\n",
      "4434176    [3047717.0, 3047717.0, 3047717.0, 3047717.0, 3...\n",
      "4435562                                          [3068590.0]\n",
      "4454339                               [3047998.0, 3048316.0]\n",
      "Name: B, Length: 123, dtype: object\n"
     ]
    }
   ],
   "source": [
    "print(gk)"
   ]
  },
  {
   "cell_type": "code",
   "execution_count": 29,
   "metadata": {},
   "outputs": [
    {
     "name": "stdout",
     "output_type": "stream",
     "text": [
      "Give coulmn name acc to which we group them\n",
      "A\n",
      "B\n",
      "A\n",
      "3115311    [2709131.0, 2709131.0, 2709131.0, 2709131.0, 2...\n",
      "3115315    [2709131.0, 2709131.0, 2709131.0, 2709131.0, 2...\n",
      "3115372    [2728515.0, 2728515.0, 2728515.0, 2728515.0, 2...\n",
      "3115388    [2713798.0, 2713798.0, 2713798.0, 2713798.0, 2...\n",
      "3115392    [2704931.0, 2704931.0, 2704931.0, 2704931.0, 2...\n",
      "                                 ...                        \n",
      "4423975    [3037238.0, 3037238.0, 3037238.0, 3037238.0, 3...\n",
      "4423976    [3037238.0, 3037238.0, 3037238.0, 3037238.0, 3...\n",
      "4434176    [3047717.0, 3047717.0, 3047717.0, 3047717.0, 3...\n",
      "4435562                                          [3068590.0]\n",
      "4454339                               [3047998.0, 3048316.0]\n",
      "Name: B, Length: 123, dtype: object\n"
     ]
    },
    {
     "name": "stderr",
     "output_type": "stream",
     "text": [
      "C:\\Users\\ashisa\\AppData\\Local\\Continuum\\anaconda3\\lib\\site-packages\\ipykernel_launcher.py:9: FutureWarning: The signature of `Series.to_csv` was aligned to that of `DataFrame.to_csv`, and argument 'header' will change its default value from False to True: please pass an explicit value to suppress this warning.\n",
      "  if __name__ == '__main__':\n"
     ]
    }
   ],
   "source": [
    "import pandas as pd\n",
    "db=pd.read_csv(\"ChangesetFile.csv\")\n",
    "db.columns=['A','B','C','D','E','F','G','H']\n",
    "print(\"Give coulmn name acc to which we group them\")\n",
    "a=input()\n",
    "b=input()\n",
    "gk = db.groupby(a)[b].apply(list)\n",
    "print(gk)\n",
    "gk.to_csv('Group.csv')"
   ]
  },
  {
   "cell_type": "code",
   "execution_count": 33,
   "metadata": {},
   "outputs": [],
   "source": [
    "temp1 = db.groupby(a)[b].unique()"
   ]
  },
  {
   "cell_type": "code",
   "execution_count": 35,
   "metadata": {},
   "outputs": [
    {
     "name": "stdout",
     "output_type": "stream",
     "text": [
      "A\n",
      "3115311               [2709131.0]\n",
      "3115315               [2709131.0]\n",
      "3115372               [2728515.0]\n",
      "3115388               [2713798.0]\n",
      "3115392    [2704931.0, 2707016.0]\n",
      "                    ...          \n",
      "4423975               [3037238.0]\n",
      "4423976               [3037238.0]\n",
      "4434176               [3047717.0]\n",
      "4435562               [3068590.0]\n",
      "4454339    [3047998.0, 3048316.0]\n",
      "Name: B, Length: 123, dtype: object\n"
     ]
    },
    {
     "data": {
      "text/plain": [
       "<bound method DataFrame.info of             A          B                 C  \\\n",
       "0     3115311  2709131.0   AD001\\z003n26t    \n",
       "1     3115311  2709131.0   AD001\\z003n26t    \n",
       "2     3115311  2709131.0   AD001\\z003n26t    \n",
       "3     3115311  2709131.0   AD001\\z003n26t    \n",
       "4     3115311  2709131.0   AD001\\z003n26t    \n",
       "...       ...        ...               ...   \n",
       "5993  4434176  3047717.0   AD001\\z003e79m    \n",
       "5994  4434176  3047717.0   AD001\\z003e79m    \n",
       "5995  4435562  3068590.0   AD001\\z003z9yu    \n",
       "5996  4454339  3047998.0   AD001\\z003tyvt    \n",
       "5997  4454339  3048316.0   AD001\\z003tyvt    \n",
       "\n",
       "                                                D   E  \\\n",
       "0      Selvaraj, Perumal (IOT DS AA DDI PLT DES)        \n",
       "1      Selvaraj, Perumal (IOT DS AA DDI PLT DES)        \n",
       "2      Selvaraj, Perumal (IOT DS AA DDI PLT DES)        \n",
       "3      Selvaraj, Perumal (IOT DS AA DDI PLT DES)        \n",
       "4      Selvaraj, Perumal (IOT DS AA DDI PLT DES)        \n",
       "...                                           ...  ..   \n",
       "5993        Handa, Vikas (IOT DS AA DDI PLT DES)        \n",
       "5994        Handa, Vikas (IOT DS AA DDI PLT DES)        \n",
       "5995        Candy, Hazel (IOT DS AA DDI PLT DES)        \n",
       "5996   Irugu, Vinodkumar (IOT DS AA DDI PLT DES)        \n",
       "5997   Irugu, Vinodkumar (IOT DS AA DDI PLT DES)        \n",
       "\n",
       "                            F  \\\n",
       "0       29-Oct-18 8:12:25 PM    \n",
       "1       29-Oct-18 8:12:25 PM    \n",
       "2       29-Oct-18 8:12:25 PM    \n",
       "3       29-Oct-18 8:12:25 PM    \n",
       "4       29-Oct-18 8:12:25 PM    \n",
       "...                       ...   \n",
       "5993   04-Oct-19 12:09:21 PM    \n",
       "5994   04-Oct-19 12:09:21 PM    \n",
       "5995   30-Oct-19 12:08:56 PM    \n",
       "5996    04-Oct-19 4:11:55 PM    \n",
       "5997    04-Oct-19 9:13:41 PM    \n",
       "\n",
       "                                                      G  \\\n",
       "0      $/TIA/dev/WM5_SPL_Opns_Work3/src/PE/CAX/#_Tes...   \n",
       "1      $/TIA/dev/WM5_SPL_Opns_Work3/src/PE/CAX/#_Tes...   \n",
       "2      $/TIA/dev/WM5_SPL_Opns_Work3/src/PE/CAX/#_Tes...   \n",
       "3      $/TIA/dev/WM5_SPL_Opns_Work3/src/PE/CAX/#_Tes...   \n",
       "4      $/TIA/dev/WM5_SPL_Opns_Work3/src/PE/CAX/#_Tes...   \n",
       "...                                                 ...   \n",
       "5993   $/TIA/dev/WM5_WinCC_HW_Work/src/PE/CAX/#_Test...   \n",
       "5994   $/TIA/dev/WM5_WinCC_HW_Work/src/PE/CAX/#_Test...   \n",
       "5995   $/TIA/dev/WM5_WinCC_HW_Work/src/PE/CAX/#_Test...   \n",
       "5996   $/TIA/dev/WM5_WinCC_HW_Work/src/PE/CAX/Cax.Am...   \n",
       "5997   $/TIA/dev/TR_1600_FCycle/src/PE/CAX/Cax.AmlIm...   \n",
       "\n",
       "                                                      H  \n",
       "0      CI by Selvaraj, Perumal (CT RDA DS AA DF PLT ...  \n",
       "1      CI by Selvaraj, Perumal (CT RDA DS AA DF PLT ...  \n",
       "2      CI by Selvaraj, Perumal (CT RDA DS AA DF PLT ...  \n",
       "3      CI by Selvaraj, Perumal (CT RDA DS AA DF PLT ...  \n",
       "4      CI by Selvaraj, Perumal (CT RDA DS AA DF PLT ...  \n",
       "...                                                 ...  \n",
       "5993   CI by Handa, Vikas (IOT DS AA DDI PLT DES)1)A...  \n",
       "5994   CI by Handa, Vikas (IOT DS AA DDI PLT DES)1)A...  \n",
       "5995   CI by Hazel Candy; Commented path to TIA.Prof...  \n",
       "5996   CI by Irugu, Vinodkumar (IOT DS AA DDI PLT DE...  \n",
       "5997   CI by Irugu, Vinodkumar (IOT DS AA DDI PLT DE...  \n",
       "\n",
       "[5998 rows x 8 columns]>"
      ]
     },
     "execution_count": 35,
     "metadata": {},
     "output_type": "execute_result"
    }
   ],
   "source": [
    "print(temp1)\n",
    "db.info"
   ]
  },
  {
   "cell_type": "code",
   "execution_count": 89,
   "metadata": {},
   "outputs": [
    {
     "name": "stdout",
     "output_type": "stream",
     "text": [
      "A        B        \n",
      "3115311  2709131.0    [ $/TIA/dev/WM5_SPL_Opns_Work3/src/PE/CAX/#_Te...\n",
      "3115315  2709131.0    [ $/TIA/dev/WM5_SPL_Opns_Work3/src/PE/CAX/#_Te...\n",
      "3115372  2728515.0    [ $/TIA/dev/WM5_SPL_Opns_Work3/src/PE/CAX/#_Te...\n",
      "3115388  2713798.0    [ $/TIA/dev/WM5_SPL_Opns_Work3/src/PE/CAX/Cax....\n",
      "3115392  2704931.0    [ $/TIA/dev/WM5_SPL_Opns_Work3/src/PE/_Solutio...\n",
      "                                            ...                        \n",
      "4423976  3037238.0    [ $/TIA/dev/WM5_WinCC_HW_Work/src/PE/_Solution...\n",
      "4434176  3047717.0    [ $/TIA/dev/WM5_WinCC_HW_Work/src/PE/CAX/#_Tes...\n",
      "4435562  3068590.0    [ $/TIA/dev/WM5_WinCC_HW_Work/src/PE/CAX/#_Tes...\n",
      "4454339  3047998.0    [ $/TIA/dev/WM5_WinCC_HW_Work/src/PE/CAX/Cax.A...\n",
      "         3048316.0    [ $/TIA/dev/TR_1600_FCycle/src/PE/CAX/Cax.AmlI...\n",
      "Name: G, Length: 239, dtype: object\n"
     ]
    },
    {
     "name": "stderr",
     "output_type": "stream",
     "text": [
      "C:\\Users\\ashisa\\AppData\\Local\\Continuum\\anaconda3\\lib\\site-packages\\ipykernel_launcher.py:6: FutureWarning: The signature of `Series.to_csv` was aligned to that of `DataFrame.to_csv`, and argument 'header' will change its default value from False to True: please pass an explicit value to suppress this warning.\n",
      "  \n"
     ]
    }
   ],
   "source": [
    "import numpy as np\n",
    "import pandas as pd\n",
    "db=pd.read_csv(\"ChangesetFile.csv\")\n",
    "db.columns=['A','B','C','D','E','F','G','H']\n",
    "temp=db.groupby(['A','B'])['G'].unique()\n",
    "temp.to_csv('Demo1.csv')\n",
    "print(temp)"
   ]
  },
  {
   "cell_type": "code",
   "execution_count": 91,
   "metadata": {},
   "outputs": [
    {
     "name": "stderr",
     "output_type": "stream",
     "text": [
      "C:\\Users\\ashisa\\AppData\\Local\\Continuum\\anaconda3\\lib\\site-packages\\ipykernel_launcher.py:6: FutureWarning: The signature of `Series.to_csv` was aligned to that of `DataFrame.to_csv`, and argument 'header' will change its default value from False to True: please pass an explicit value to suppress this warning.\n",
      "  \n"
     ]
    },
    {
     "name": "stdout",
     "output_type": "stream",
     "text": [
      "G                                                                                                              A      \n",
      " $/TIA/dev/TM5_BugFix/src/PE/CAX/#_Test/Cax.AmiBase.Test/Tests/ExtensionRackMapperTest.cs                      4186223               [2941533.0]\n",
      " $/TIA/dev/TM5_BugFix/src/PE/CAX/#_Test/Cax.E2E.Tests/Cax.E2E.Test.csproj                                      4381568               [3034779.0]\n",
      " $/TIA/dev/TM5_BugFix/src/PE/CAX/#_Test/Cax.E2E.Tests/E2EProjectsData/Input Projects/Projects/SIPLUS_IM.zip    4369419               [3027659.0]\n",
      " $/TIA/dev/TM5_BugFix/src/PE/CAX/#_Test/Cax.E2E.Tests/E2EProjectsData/Input Projects/Projects/US036_24.zip     4369419               [3027659.0]\n",
      " $/TIA/dev/TM5_BugFix/src/PE/CAX/#_Test/Cax.E2E.Tests/E2EProjectsData/Input Projects/Projects/US036_27_4.zip   4381568               [3034779.0]\n",
      "                                                                                                                                   ...          \n",
      " $/TIA/dev/WM5_WinCC_HW_Work/src/PE/_Solutions/CAX/Cax.TestFramework.Utilities/Properties                      4381465               [3033690.0]\n",
      " $/TIA/dev/WM5_WinCC_HW_Work/src/PE/_Solutions/CAX/Cax.TestFramework.Utilities/Properties/AssemblyInfo.cs      3275580               [3034060.0]\n",
      "                                                                                                               4381465               [3033690.0]\n",
      " $/TIA/dev/WM5_WinCC_HW_Work/src/WCF/ESScripting/#_UnitTest/Opnstests/CAxReleaseRelevantTests.testsuite        4229817    [2973196.0, 2975820.0]\n",
      "                                                                                                               4278573               [2996992.0]\n",
      "Name: B, Length: 5787, dtype: object\n"
     ]
    }
   ],
   "source": [
    "import numpy as np\n",
    "import pandas as pd\n",
    "db=pd.read_csv(\"ChangesetFile.csv\")\n",
    "db.columns=['A','B','C','D','E','F','G','H']\n",
    "temp=db.groupby(['G','A'])['B'].unique()\n",
    "temp.to_csv('Demo2.csv')\n",
    "print(temp)"
   ]
  },
  {
   "cell_type": "code",
   "execution_count": 134,
   "metadata": {},
   "outputs": [
    {
     "name": "stdout",
     "output_type": "stream",
     "text": [
      "                                                      G  count\n",
      "0      $/TIA/dev/WM5_SPL_Opns_Work3/src/PE/CAX/#_Tes...     56\n",
      "1      $/TIA/dev/WM5_SPL_Opns_Work3/src/PE/CAX/#_Tes...     30\n",
      "2      $/TIA/dev/WM5_SPL_Opns_Work3/src/PE/CAX/Cax.A...     28\n",
      "3      $/TIA/dev/WM5_SPL_Opns_Work/src/PE/CAX/#_Test...     23\n",
      "4      $/TIA/dev/WM5_SPL_Opns_Work/src/PE/CAX/#_Test...     22\n",
      "...                                                 ...    ...\n",
      "3522   $/TIA/dev/WM5_WinCC_HW_Work/src/PE/CAX/#_Test...      1\n",
      "3523   $/TIA/dev/WM5_WinCC_HW_Work/src/PE/CAX/#_Test...      1\n",
      "3524   $/TIA/dev/WM5_WinCC_HW_Work/src/PE/CAX/#_Test...      1\n",
      "3525   $/TIA/dev/WM5_WinCC_HW_Work/src/PE/CAX/#_Test...      1\n",
      "3526   $/TIA/dev/TM5_BugFix/src/PE/CAX/#_Test/Cax.Am...      1\n",
      "\n",
      "[3527 rows x 2 columns]\n"
     ]
    }
   ],
   "source": [
    "import numpy as np\n",
    "import pandas as pd\n",
    "db=pd.read_csv(\"ChangesetFile.csv\")\n",
    "db.columns=['A','B','C','D','E','F','G','H']\n",
    "temp=db.groupby('G')['F'].count().sort_values(ascending=False).reset_index(name='count')\n",
    "                            \n",
    "temp.to_csv('Demo3.csv',index=False)\n",
    "print(temp)"
   ]
  },
  {
   "cell_type": "code",
   "execution_count": 113,
   "metadata": {},
   "outputs": [],
   "source": [
    "tt = pd.DataFrame({'STNAME':list('abscscbcdbcsscae'),\n",
    "                   'CTYNAME':[4,5,6,5,6,2,3,4,5,6,4,5,4,3,6,5]})"
   ]
  },
  {
   "cell_type": "code",
   "execution_count": 108,
   "metadata": {},
   "outputs": [
    {
     "name": "stdout",
     "output_type": "stream",
     "text": [
      "<class 'pandas.core.frame.DataFrame'>\n",
      "RangeIndex: 16 entries, 0 to 15\n",
      "Data columns (total 2 columns):\n",
      "STNAME     16 non-null object\n",
      "CTYNAME    16 non-null int64\n",
      "dtypes: int64(1), object(1)\n",
      "memory usage: 384.0+ bytes\n"
     ]
    }
   ],
   "source": [
    "tt.info()"
   ]
  },
  {
   "cell_type": "code",
   "execution_count": 109,
   "metadata": {},
   "outputs": [
    {
     "name": "stdout",
     "output_type": "stream",
     "text": [
      "   STNAME  CTYNAME\n",
      "0       a        4\n",
      "1       b        5\n",
      "2       s        6\n",
      "3       c        5\n",
      "4       s        6\n",
      "5       c        2\n",
      "6       b        3\n",
      "7       c        4\n",
      "8       d        5\n",
      "9       b        6\n",
      "10      c        4\n",
      "11      s        5\n",
      "12      s        4\n",
      "13      c        3\n",
      "14      a        6\n",
      "15      e        5\n"
     ]
    }
   ],
   "source": [
    "print(tt)"
   ]
  },
  {
   "cell_type": "code",
   "execution_count": 114,
   "metadata": {},
   "outputs": [],
   "source": [
    "tt = tt[['STNAME','CTYNAME']].groupby(['STNAME'])['CTYNAME'] \\\n",
    "                             .count() \\\n",
    "                             .reset_index(name='count') \\\n",
    "                             .sort_values(['count'], ascending=False) \\\n",
    "                             .head(5)"
   ]
  },
  {
   "cell_type": "code",
   "execution_count": 123,
   "metadata": {},
   "outputs": [
    {
     "ename": "SyntaxError",
     "evalue": "invalid syntax (<ipython-input-123-f356a4b5eb96>, line 5)",
     "output_type": "error",
     "traceback": [
      "\u001b[1;36m  File \u001b[1;32m\"<ipython-input-123-f356a4b5eb96>\"\u001b[1;36m, line \u001b[1;32m5\u001b[0m\n\u001b[1;33m    temp=db[[*]].groupby('G')['F'] \\\u001b[0m\n\u001b[1;37m              ^\u001b[0m\n\u001b[1;31mSyntaxError\u001b[0m\u001b[1;31m:\u001b[0m invalid syntax\n"
     ]
    }
   ],
   "source": [
    "import numpy as np\n",
    "import pandas as pd\n",
    "db=pd.read_csv(\"ChangesetFile.csv\")\n",
    "db.columns=['A','B','C','D','E','F','G','H']\n",
    "temp=db[['G','F']].groupby('G')['F'] \\\n",
    "                 .count() \\\n",
    "                 .reset_index(name='count') \\\n",
    "                 .sort_values(['count'], ascending=False) \\\n",
    "                 \n",
    "                            \n",
    "temp.to_csv('Demo4.csv')\n",
    "print(temp)"
   ]
  },
  {
   "cell_type": "code",
   "execution_count": 135,
   "metadata": {},
   "outputs": [
    {
     "name": "stdout",
     "output_type": "stream",
     "text": [
      "                                                   D  count\n",
      "0         Irugu, Vinodkumar (IOT DS AA DDI PLT DES)    2500\n",
      "1         Pain, Sashibhusan (IOT DS AA DDI PLT DES)    1086\n",
      "2         Selvaraj, Perumal (IOT DS AA DDI PLT DES)     939\n",
      "3              Candy, Hazel (IOT DS AA DDI PLT DES)     718\n",
      "4              S V, Karthik (IOT DS AA DDI PLT DES)     386\n",
      "5              Handa, Vikas (IOT DS AA DDI PLT DES)     149\n",
      "6                 T G, Anil (IOT DS AA DDI PLT PAR)     135\n",
      "7   Bhaskar Saurya Ranjan Das, Bijay (IOT DS AA D...     85\n"
     ]
    }
   ],
   "source": [
    "import numpy as np\n",
    "import pandas as pd\n",
    "db=pd.read_csv(\"ChangesetFile.csv\")\n",
    "db.columns=['A','B','C','D','E','F','G','H']\n",
    "temp=db.groupby('D')['G'].count().sort_values(ascending=False).reset_index(name='count')\n",
    "                            \n",
    "temp.to_csv('Demo5.csv',index=False)\n",
    "print(temp)"
   ]
  },
  {
   "cell_type": "code",
   "execution_count": 137,
   "metadata": {},
   "outputs": [
    {
     "name": "stdout",
     "output_type": "stream",
     "text": [
      "                                                      G  \\\n",
      "0      $/TIA/dev/WM5_SPL_Opns_Work3/src/PE/CAX/#_Tes...   \n",
      "1      $/TIA/dev/WM5_SPL_Opns_Work3/src/PE/CAX/#_Tes...   \n",
      "2      $/TIA/dev/WM5_SPL_Opns_Work3/src/PE/CAX/#_Tes...   \n",
      "3      $/TIA/dev/WM5_SPL_Opns_Work3/src/PE/CAX/Cax.A...   \n",
      "4      $/TIA/dev/WM5_SPL_Opns_Work3/src/PE/CAX/#_Tes...   \n",
      "...                                                 ...   \n",
      "3922   $/TIA/dev/WM5_SPL_Opns_Work3/src/PE/CAX/#_Tes...   \n",
      "3923   $/TIA/dev/WM5_SPL_Opns_Work3/src/PE/CAX/#_Tes...   \n",
      "3924   $/TIA/dev/WM5_SPL_Opns_Work3/src/PE/CAX/#_Tes...   \n",
      "3925   $/TIA/dev/WM5_SPL_Opns_Work3/src/PE/CAX/#_Tes...   \n",
      "3926   $/TIA/dev/TM5_BugFix/src/PE/CAX/#_Test/Cax.Am...   \n",
      "\n",
      "                                                D  count  \n",
      "0      Selvaraj, Perumal (IOT DS AA DDI PLT DES)      26  \n",
      "1      Selvaraj, Perumal (IOT DS AA DDI PLT DES)      20  \n",
      "2      Pain, Sashibhusan (IOT DS AA DDI PLT DES)      15  \n",
      "3      Selvaraj, Perumal (IOT DS AA DDI PLT DES)      14  \n",
      "4      Irugu, Vinodkumar (IOT DS AA DDI PLT DES)      14  \n",
      "...                                           ...    ...  \n",
      "3922        S V, Karthik (IOT DS AA DDI PLT DES)       1  \n",
      "3923        S V, Karthik (IOT DS AA DDI PLT DES)       1  \n",
      "3924        S V, Karthik (IOT DS AA DDI PLT DES)       1  \n",
      "3925   Pain, Sashibhusan (IOT DS AA DDI PLT DES)       1  \n",
      "3926        Candy, Hazel (IOT DS AA DDI PLT DES)       1  \n",
      "\n",
      "[3927 rows x 3 columns]\n"
     ]
    }
   ],
   "source": [
    "import numpy as np\n",
    "import pandas as pd\n",
    "db=pd.read_csv(\"ChangesetFile.csv\")\n",
    "db.columns=['A','B','C','D','E','F','G','H']\n",
    "\n",
    "temp=db.groupby(['G','D'])['F'].count().sort_values(ascending=False).reset_index(name='count')\n",
    "                            \n",
    "temp.to_csv('Demo6.csv',index=False)\n",
    "print(temp)"
   ]
  },
  {
   "cell_type": "code",
   "execution_count": 141,
   "metadata": {},
   "outputs": [
    {
     "name": "stdout",
     "output_type": "stream",
     "text": [
      "G\n",
      " $/TIA/dev/TM5_BugFix/src/PE/CAX/#_Test/Cax.AmiBase.Test/Tests/ExtensionRackMapperTest.cs                              14-Jun-19 8:45:19 PM \n",
      " $/TIA/dev/TM5_BugFix/src/PE/CAX/#_Test/Cax.E2E.Tests/Cax.E2E.Test.csproj                                              18-Sep-19 8:12:39 PM \n",
      " $/TIA/dev/TM5_BugFix/src/PE/CAX/#_Test/Cax.E2E.Tests/E2EProjectsData/Input Projects/Projects/SIPLUS_IM.zip            11-Sep-19 3:51:23 PM \n",
      " $/TIA/dev/TM5_BugFix/src/PE/CAX/#_Test/Cax.E2E.Tests/E2EProjectsData/Input Projects/Projects/US036_24.zip             11-Sep-19 3:51:23 PM \n",
      " $/TIA/dev/TM5_BugFix/src/PE/CAX/#_Test/Cax.E2E.Tests/E2EProjectsData/Input Projects/Projects/US036_27_4.zip           18-Sep-19 8:12:39 PM \n",
      "                                                                                                                               ...          \n",
      " $/TIA/dev/WM5_WinCC_HW_Work/src/PE/_Solutions/CAX/Cax.TestFramework.Utilities                                         18-Sep-19 1:52:55 PM \n",
      " $/TIA/dev/WM5_WinCC_HW_Work/src/PE/_Solutions/CAX/Cax.TestFramework.Utilities/Cax.TestFramework.Utilities.csproj      18-Sep-19 1:52:55 PM \n",
      " $/TIA/dev/WM5_WinCC_HW_Work/src/PE/_Solutions/CAX/Cax.TestFramework.Utilities/Properties                              18-Sep-19 1:52:55 PM \n",
      " $/TIA/dev/WM5_WinCC_HW_Work/src/PE/_Solutions/CAX/Cax.TestFramework.Utilities/Properties/AssemblyInfo.cs              18-Sep-19 1:52:55 PM \n",
      " $/TIA/dev/WM5_WinCC_HW_Work/src/WCF/ESScripting/#_UnitTest/Opnstests/CAxReleaseRelevantTests.testsuite                19-Jul-19 1:05:52 PM \n",
      "Name: F, Length: 3527, dtype: object\n"
     ]
    },
    {
     "name": "stderr",
     "output_type": "stream",
     "text": [
      "C:\\Users\\ashisa\\AppData\\Local\\Continuum\\anaconda3\\lib\\site-packages\\ipykernel_launcher.py:8: FutureWarning: The signature of `Series.to_csv` was aligned to that of `DataFrame.to_csv`, and argument 'header' will change its default value from False to True: please pass an explicit value to suppress this warning.\n",
      "  \n"
     ]
    }
   ],
   "source": [
    "import numpy as np\n",
    "import pandas as pd\n",
    "db=pd.read_csv(\"ChangesetFile.csv\")\n",
    "db.columns=['A','B','C','D','E','F','G','H']\n",
    "\n",
    "temp=db.groupby('G')['F'].first()\n",
    "                            \n",
    "temp.to_csv('Demo7.csv')\n",
    "print(temp)"
   ]
  },
  {
   "cell_type": "code",
   "execution_count": 142,
   "metadata": {},
   "outputs": [
    {
     "name": "stdout",
     "output_type": "stream",
     "text": [
      "G\n",
      " $/TIA/dev/TM5_BugFix/src/PE/CAX/#_Test/Cax.AmiBase.Test/Tests/ExtensionRackMapperTest.cs                               14-Jun-19 8:45:19 PM \n",
      " $/TIA/dev/TM5_BugFix/src/PE/CAX/#_Test/Cax.E2E.Tests/Cax.E2E.Test.csproj                                               18-Sep-19 8:12:39 PM \n",
      " $/TIA/dev/TM5_BugFix/src/PE/CAX/#_Test/Cax.E2E.Tests/E2EProjectsData/Input Projects/Projects/SIPLUS_IM.zip             11-Sep-19 3:51:23 PM \n",
      " $/TIA/dev/TM5_BugFix/src/PE/CAX/#_Test/Cax.E2E.Tests/E2EProjectsData/Input Projects/Projects/US036_24.zip              11-Sep-19 3:51:23 PM \n",
      " $/TIA/dev/TM5_BugFix/src/PE/CAX/#_Test/Cax.E2E.Tests/E2EProjectsData/Input Projects/Projects/US036_27_4.zip            18-Sep-19 8:12:39 PM \n",
      "                                                                                                                               ...           \n",
      " $/TIA/dev/WM5_WinCC_HW_Work/src/PE/_Solutions/CAX/Cax.TestFramework.Utilities                                         17-Sep-19 10:04:41 PM \n",
      " $/TIA/dev/WM5_WinCC_HW_Work/src/PE/_Solutions/CAX/Cax.TestFramework.Utilities/Cax.TestFramework.Utilities.csproj      17-Sep-19 10:04:41 PM \n",
      " $/TIA/dev/WM5_WinCC_HW_Work/src/PE/_Solutions/CAX/Cax.TestFramework.Utilities/Properties                              17-Sep-19 10:04:41 PM \n",
      " $/TIA/dev/WM5_WinCC_HW_Work/src/PE/_Solutions/CAX/Cax.TestFramework.Utilities/Properties/AssemblyInfo.cs              17-Sep-19 10:04:41 PM \n",
      " $/TIA/dev/WM5_WinCC_HW_Work/src/WCF/ESScripting/#_UnitTest/Opnstests/CAxReleaseRelevantTests.testsuite                 08-Aug-19 6:43:20 PM \n",
      "Name: F, Length: 3527, dtype: object\n"
     ]
    },
    {
     "name": "stderr",
     "output_type": "stream",
     "text": [
      "C:\\Users\\ashisa\\AppData\\Local\\Continuum\\anaconda3\\lib\\site-packages\\ipykernel_launcher.py:8: FutureWarning: The signature of `Series.to_csv` was aligned to that of `DataFrame.to_csv`, and argument 'header' will change its default value from False to True: please pass an explicit value to suppress this warning.\n",
      "  \n"
     ]
    }
   ],
   "source": [
    "import numpy as np\n",
    "import pandas as pd\n",
    "db=pd.read_csv(\"ChangesetFile.csv\")\n",
    "db.columns=['A','B','C','D','E','F','G','H']\n",
    "\n",
    "temp=db.groupby('G')['F'].last()\n",
    "                            \n",
    "temp.to_csv('Demo8.csv')\n",
    "print(temp)"
   ]
  },
  {
   "cell_type": "code",
   "execution_count": null,
   "metadata": {},
   "outputs": [],
   "source": []
  }
 ],
 "metadata": {
  "kernelspec": {
   "display_name": "Python 3",
   "language": "python",
   "name": "python3"
  },
  "language_info": {
   "codemirror_mode": {
    "name": "ipython",
    "version": 3
   },
   "file_extension": ".py",
   "mimetype": "text/x-python",
   "name": "python",
   "nbconvert_exporter": "python",
   "pygments_lexer": "ipython3",
   "version": "3.7.4"
  }
 },
 "nbformat": 4,
 "nbformat_minor": 2
}
